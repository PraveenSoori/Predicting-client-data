{
  "cells": [
    {
      "cell_type": "code",
      "execution_count": null,
      "metadata": {
        "colab": {
          "base_uri": "https://localhost:8080/",
          "height": 443
        },
        "id": "PkXXkiMufnUk",
        "outputId": "5a05fd33-6fa4-4342-d09f-19d82e45275e"
      },
      "outputs": [],
      "source": [
        "import pandas as pd\n",
        "import numpy as np\n",
        "\n",
        "file_path = '/content/bank-full.csv'\n",
        "raw = pd.read_csv(file_path, delimiter=';')\n",
        "\n",
        "raw"
      ]
    },
    {
      "cell_type": "code",
      "execution_count": null,
      "metadata": {},
      "outputs": [],
      "source": [
        "# Separate numerical and object columns\n",
        "numerical_data = raw.select_dtypes(include=['int64', 'float64'])\n",
        "categorical_data = raw.select_dtypes(include=['object'])\n",
        "\n",
        "# Describe numerical data\n",
        "numerical_description = numerical_data.describe()\n",
        "\n",
        "# Describe categorical data\n",
        "categorical_description = categorical_data.describe()\n",
        "\n",
        "# Display the descriptions\n",
        "print(\"Numerical Data Description:\")\n",
        "print(numerical_description)\n",
        "\n",
        "print(\"\\nCategorical Data Description:\")\n",
        "print(categorical_description)"
      ]
    },
    {
      "cell_type": "code",
      "execution_count": null,
      "metadata": {},
      "outputs": [],
      "source": [
        "import seaborn as sns\n",
        "import matplotlib.pyplot as plt\n",
        "\n",
        "# Set up the figure\n",
        "plt.figure(figsize=(10, 12))\n",
        "\n",
        "# Plot each numerical feature\n",
        "for i, feature in enumerate(numerical_data, 1):\n",
        "    plt.subplot(4, 2, i)\n",
        "    sns.histplot(raw[feature], kde=True, color='blue', bins=30)\n",
        "    plt.title(f'Distribution of {feature}')\n",
        "    plt.xlabel(feature)\n",
        "    plt.ylabel('Frequency')\n",
        "\n",
        "plt.tight_layout()\n",
        "plt.show()"
      ]
    },
    {
      "cell_type": "code",
      "execution_count": null,
      "metadata": {},
      "outputs": [],
      "source": [
        "# Visualize categorical data distributions\n",
        "plt.figure(figsize=(12, 18))\n",
        "for i, feature in enumerate(categorical_data.columns, 1):\n",
        "    plt.subplot((len(categorical_data.columns) + 1) // 2, 2, i)\n",
        "    sns.countplot(y=feature, data=raw, hue=feature, palette='viridis', legend=False)\n",
        "    plt.title(f'Distribution of {feature}')\n",
        "    plt.xlabel('Frequency')\n",
        "    plt.ylabel(feature)\n",
        "plt.tight_layout()\n",
        "plt.show()"
      ]
    },
    {
      "cell_type": "code",
      "execution_count": 3,
      "metadata": {
        "id": "anpagPynncl9"
      },
      "outputs": [],
      "source": [
        "# Step 3: Drop columns.\n",
        "# For benchmark purposes and should be discarded if the intention is to have a realistic predictive model.\n",
        "columns_to_drop = ['duration', 'default']\n",
        "data = raw.drop(columns=columns_to_drop)"
      ]
    },
    {
      "cell_type": "code",
      "execution_count": null,
      "metadata": {
        "colab": {
          "base_uri": "https://localhost:8080/"
        },
        "id": "IIgh10EAoNMn",
        "outputId": "9825fb8a-cb67-4ff7-dad5-682b8acee56b"
      },
      "outputs": [],
      "source": [
        "# Check for duplicate rows\n",
        "duplicates = data.duplicated().sum()\n",
        "print(f\"Number of duplicate rows: {duplicates}\")"
      ]
    },
    {
      "cell_type": "code",
      "execution_count": null,
      "metadata": {
        "id": "AYV0qlSCoY4U"
      },
      "outputs": [],
      "source": [
        "# Remove duplicate rows\n",
        "data = data.drop_duplicates()"
      ]
    },
    {
      "cell_type": "code",
      "execution_count": null,
      "metadata": {
        "colab": {
          "base_uri": "https://localhost:8080/"
        },
        "id": "ECV-wxTwoxzH",
        "outputId": "f4b00117-8fb9-4246-cf07-93ca805536a5"
      },
      "outputs": [],
      "source": [
        "print(f\"Shape of the dataset after removing duplicates: {data.shape}\")"
      ]
    },
    {
      "cell_type": "code",
      "execution_count": null,
      "metadata": {
        "colab": {
          "base_uri": "https://localhost:8080/"
        },
        "id": "PUbBF5Vitie1",
        "outputId": "061569db-b09f-49ee-ace7-6adf62e97b89"
      },
      "outputs": [],
      "source": [
        "print(f\"\\nMissing values per column:\")\n",
        "print(data.isnull().sum())"
      ]
    },
    {
      "cell_type": "code",
      "execution_count": null,
      "metadata": {
        "colab": {
          "base_uri": "https://localhost:8080/"
        },
        "id": "qdeM4CAQgXIt",
        "outputId": "581ec905-e552-47e8-9f19-791f0f6d1a10"
      },
      "outputs": [],
      "source": [
        "print(\"Dataset Info:\")\n",
        "data.info()"
      ]
    },
    {
      "cell_type": "code",
      "execution_count": null,
      "metadata": {
        "id": "Aqjbe8qtXVNn"
      },
      "outputs": [],
      "source": [
        "# Bin 'age' into categories\n",
        "bins_age = [0, 25, 50, 75, 100]\n",
        "labels_age = ['youth', 'adult', 'senior', 'elderly']\n",
        "data['age_group'] = pd.cut(data['age'], bins=bins_age, labels=labels_age, right=False)\n",
        "\n",
        "# Bin 'balance' into categories\n",
        "bins_balance = [-np.inf, 0, 1000, 5000, np.inf]\n",
        "labels_balance = ['negative', 'low', 'medium', 'high']\n",
        "data['balance_category'] = pd.cut(data['balance'], bins=bins_balance, labels=labels_balance, right=False)"
      ]
    },
    {
      "cell_type": "code",
      "execution_count": null,
      "metadata": {
        "colab": {
          "base_uri": "https://localhost:8080/",
          "height": 592
        },
        "id": "SfxK8U_MrrK8",
        "outputId": "0393bc2e-1713-4d43-cb03-00bc297184d3"
      },
      "outputs": [],
      "source": [
        "import seaborn as sns\n",
        "import matplotlib.pyplot as plt\n",
        "\n",
        "# Compute the correlation matrix for numerical columns\n",
        "correlation_matrix = numerical_data.corr()\n",
        "\n",
        "# Create a heatmap\n",
        "plt.figure(figsize=(10, 8))\n",
        "sns.heatmap(correlation_matrix, annot=True, cmap='coolwarm', fmt=\".2f\", cbar=True)\n",
        "plt.title(\"Heatmap of Correlation Matrix\")\n",
        "plt.show()\n"
      ]
    },
    {
      "cell_type": "code",
      "execution_count": null,
      "metadata": {
        "colab": {
          "base_uri": "https://localhost:8080/"
        },
        "id": "r-6kTMS0Ai1C",
        "outputId": "23d2515f-1c4c-45d9-e8e9-3d3083805635"
      },
      "outputs": [],
      "source": [
        "# Select all columns with categorical data (dtype = object), excluding the target variable ('y').\n",
        "categorical_cols = data.select_dtypes(include=['object', 'category']).columns.drop('y')  # Exclude the target variable\n",
        "print(f\"\\nCategorical Columns: {categorical_cols}\")\n",
        "\n",
        "for col in categorical_cols:\n",
        "    print(f\"\\nUnique values in '{col}': {data[col].unique()}\")"
      ]
    },
    {
      "cell_type": "code",
      "execution_count": null,
      "metadata": {
        "colab": {
          "base_uri": "https://localhost:8080/",
          "height": 178
        },
        "id": "oX26jTQstnXV",
        "outputId": "180a5a51-9e10-46d1-8d6e-520c1c3e7f70"
      },
      "outputs": [],
      "source": [
        "x = raw.drop(['y'], axis=1)\n",
        "y = raw['y']\n",
        "y.value_counts()"
      ]
    },
    {
      "cell_type": "code",
      "execution_count": null,
      "metadata": {
        "colab": {
          "base_uri": "https://localhost:8080/",
          "height": 423
        },
        "id": "A6n2Q5Rl-S7w",
        "outputId": "f2490265-feb9-497d-970c-d911ec689e4e"
      },
      "outputs": [],
      "source": [
        "import matplotlib.pyplot as plt\n",
        "\n",
        "y.value_counts().plot.pie(autopct='%.2f')"
      ]
    },
    {
      "cell_type": "code",
      "execution_count": null,
      "metadata": {
        "colab": {
          "base_uri": "https://localhost:8080/"
        },
        "id": "enKmNfdm1Uxq",
        "outputId": "12fd62a7-41ab-4c74-fc15-123e8afac792"
      },
      "outputs": [],
      "source": [
        "# Define a function to detect outliers using the IQR method for a given column\n",
        "def detect_outliers_iqr_all(df):\n",
        "    outliers = {}\n",
        "    for column in df.select_dtypes(include=['int64', 'float64']).columns:\n",
        "        Q1 = df[column].quantile(0.25)\n",
        "        Q3 = df[column].quantile(0.75)\n",
        "        IQR = Q3 - Q1\n",
        "\n",
        "        lower_bound = Q1 - 1.5 * IQR\n",
        "        upper_bound = Q3 + 1.5 * IQR\n",
        "\n",
        "        # Identify outliers in the column\n",
        "        column_outliers = df[(df[column] < lower_bound) | (df[column] > upper_bound)]\n",
        "        outliers[column] = column_outliers\n",
        "        print(f\"Outliers in {column}:\")\n",
        "        print(column_outliers)\n",
        "        print(\"\\n\")\n",
        "\n",
        "    return outliers\n",
        "\n",
        "# Apply the function to the dataset\n",
        "outliers_dict = detect_outliers_iqr_all(data)\n"
      ]
    },
    {
      "cell_type": "code",
      "execution_count": null,
      "metadata": {
        "colab": {
          "base_uri": "https://localhost:8080/"
        },
        "id": "2l2tn6mOX4yk",
        "outputId": "4ae54c3e-9b06-4eb7-855a-29327baea30a"
      },
      "outputs": [],
      "source": [
        "data.info()"
      ]
    },
    {
      "cell_type": "code",
      "execution_count": null,
      "metadata": {
        "colab": {
          "base_uri": "https://localhost:8080/"
        },
        "id": "2tXcKHh55snq",
        "outputId": "618380ac-c43b-44b1-8280-71ee5def0a5c"
      },
      "outputs": [],
      "source": [
        "!pip install -U scikit-learn\n",
        "!pip install -U imbalanced-learn"
      ]
    },
    {
      "cell_type": "code",
      "execution_count": null,
      "metadata": {
        "colab": {
          "base_uri": "https://localhost:8080/"
        },
        "id": "7TJ3QHVk1-jk",
        "outputId": "95fa2292-fd3a-40cc-e4e8-c53a44a4c509"
      },
      "outputs": [],
      "source": [
        "import pandas as pd\n",
        "from sklearn.model_selection import train_test_split\n",
        "from sklearn.preprocessing import LabelEncoder, StandardScaler, OneHotEncoder\n",
        "from sklearn.compose import ColumnTransformer\n",
        "from imblearn.under_sampling import RandomUnderSampler\n",
        "from imblearn.over_sampling import SMOTE\n",
        "\n",
        "# Step 1: Label Encoding for Random Forest\n",
        "label_encoded_data = data.copy()\n",
        "label_encoders = {}\n",
        "\n",
        "for col in categorical_cols:\n",
        "    le = LabelEncoder()\n",
        "    label_encoded_data[col] = le.fit_transform(data[col])  # Transform to numeric labels\n",
        "    label_encoders[col] = le\n",
        "\n",
        "# Encode the target variable ('y') for Random Forest\n",
        "label_encoder_y = LabelEncoder()\n",
        "label_encoded_data['y'] = label_encoder_y.fit_transform(data['y'])\n",
        "\n",
        "# Step 2: One-Hot Encoding for Neural Networks\n",
        "one_hot_encoder = OneHotEncoder(drop='first', sparse_output=False)\n",
        "preprocessor = ColumnTransformer(\n",
        "    transformers=[('onehot', one_hot_encoder, categorical_cols)],\n",
        "    remainder='passthrough'\n",
        ")\n",
        "\n",
        "# Apply the preprocessor to the dataset\n",
        "one_hot_encoded_data = preprocessor.fit_transform(data)\n",
        "\n",
        "# Retrieve the fitted OneHotEncoder and get feature names\n",
        "fitted_one_hot_encoder = preprocessor.named_transformers_['onehot']\n",
        "one_hot_encoded_feature_names = fitted_one_hot_encoder.get_feature_names_out(categorical_cols)\n",
        "\n",
        "# Combine feature names and convert transformed data to DataFrame\n",
        "all_feature_names = list(one_hot_encoded_feature_names) + list(data.drop(categorical_cols, axis=1).columns)\n",
        "one_hot_encoded_data = pd.DataFrame(one_hot_encoded_data, columns=all_feature_names)\n",
        "\n",
        "# Encode the target variable ('y') for Neural Networks\n",
        "one_hot_encoded_data['y'] = label_encoder_y.transform(data['y'])\n",
        "\n",
        "# Step 3: Feature Scaling for Neural Networks\n",
        "scaler = StandardScaler()\n",
        "numerical_cols = data.select_dtypes(include=['int64', 'float64']).columns\n",
        "scaled_data = one_hot_encoded_data.copy()\n",
        "scaled_data[numerical_cols] = scaler.fit_transform(one_hot_encoded_data[numerical_cols])\n",
        "\n",
        "# Step 4: Train-Test Split\n",
        "X_rf = label_encoded_data.drop('y', axis=1)  # Features for Random Forest\n",
        "y_rf = label_encoded_data['y']              # Target variable for Random Forest\n",
        "\n",
        "X_nn = scaled_data.drop('y', axis=1)  # Features for Neural Networks\n",
        "y_nn = scaled_data['y']              # Target variable for Neural Networks\n",
        "\n",
        "X_rf_train, X_rf_test, y_rf_train, y_rf_test = train_test_split(\n",
        "    X_rf, y_rf, test_size=0.2, random_state=42, stratify=y_rf)\n",
        "X_nn_train, X_nn_test, y_nn_train, y_nn_test = train_test_split(\n",
        "    X_nn, y_nn, test_size=0.2, random_state=42, stratify=y_nn)\n",
        "\n",
        "# Step 1: Undersample the Majority Class\n",
        "under_sampler = RandomUnderSampler(sampling_strategy=0.5, random_state=42)  # Reduce majority to 50% of its size\n",
        "X_rf_train_under, y_rf_train_under = under_sampler.fit_resample(X_rf_train, y_rf_train)\n",
        "X_nn_train_under, y_nn_train_under = under_sampler.fit_resample(X_nn_train, y_nn_train)\n",
        "\n",
        "\n",
        "# Step 2: Oversample the Minority Class\n",
        "smote = SMOTE(sampling_strategy=1.0, random_state=42)  # Make both classes equal\n",
        "X_rf_train_balanced, y_rf_train_balanced = smote.fit_resample(X_rf_train_under, y_rf_train_under)\n",
        "X_nn_train_balanced, y_nn_train_balanced = smote.fit_resample(X_nn_train_under, y_nn_train_under)\n",
        "\n",
        "# Step 6: Display Results\n",
        "print(f\"\\nRandom Forest Training Set Class Distribution After Undersampling:\")\n",
        "print(pd.Series(y_rf_train_balanced).value_counts(normalize=True))\n",
        "\n",
        "print(\"\\nNeural Network Training Set Class Distribution After Undersampling:\")\n",
        "print(pd.Series(y_nn_train_balanced).value_counts(normalize=True))\n",
        "\n",
        "print(\"\\nShapes After Undersampling:\")\n",
        "print(\"Random Forest Train Shape:\", X_rf_train_balanced.shape)\n",
        "print(\"Random Forest Test Shape:\", X_rf_test.shape)\n",
        "print(\"Neural Network Train Shape:\", X_nn_train_balanced.shape)\n",
        "print(\"Neural Network Test Shape:\", X_nn_test.shape)\n"
      ]
    },
    {
      "cell_type": "code",
      "execution_count": null,
      "metadata": {
        "colab": {
          "base_uri": "https://localhost:8080/"
        },
        "id": "RjRd8LJR2u7P",
        "outputId": "6acb136e-6e6d-4f4e-c332-e9a16d18df23"
      },
      "outputs": [],
      "source": [
        "# Combine features and target variable into a single DataFrame\n",
        "rf_balanced_data = pd.concat([X_rf_train_balanced, y_rf_train_balanced], axis=1)\n",
        "nn_balanced_data = pd.concat([X_nn_train_balanced, y_nn_train_balanced], axis=1)\n",
        "\n",
        "# Check for duplicates in the Random Forest balanced dataset\n",
        "rf_duplicates = rf_balanced_data.duplicated().sum()\n",
        "print(f\"Number of duplicate rows in Random Forest balanced dataset: {rf_duplicates}\")\n",
        "\n",
        "# Check for duplicates in the Neural Network balanced dataset\n",
        "nn_duplicates = nn_balanced_data.duplicated().sum()\n",
        "print(f\"Number of duplicate rows in Neural Network balanced dataset: {nn_duplicates}\")\n"
      ]
    },
    {
      "cell_type": "code",
      "execution_count": null,
      "metadata": {
        "colab": {
          "base_uri": "https://localhost:8080/"
        },
        "id": "rq8ZhuDD3ARd",
        "outputId": "493c32a0-efa2-4ef7-d4ad-b4cca2927764"
      },
      "outputs": [],
      "source": [
        "# Remove duplicates for Random Forest\n",
        "rf_balanced_data = rf_balanced_data.drop_duplicates().reset_index(drop=True)\n",
        "X_rf_train_balanced = rf_balanced_data.drop('y', axis=1)\n",
        "y_rf_train_balanced = rf_balanced_data['y']\n",
        "\n",
        "# Remove duplicates for Neural Networks\n",
        "nn_balanced_data = nn_balanced_data.drop_duplicates().reset_index(drop=True)\n",
        "X_nn_train_balanced = nn_balanced_data.drop('y', axis=1)\n",
        "y_nn_train_balanced = nn_balanced_data['y']\n",
        "\n",
        "# Display the results\n",
        "print(f\"Random Forest Training Set Shape After Cleaning: {rf_balanced_data.shape}\")\n",
        "print(f\"Neural Network Training Set Shape After Cleaning: {nn_balanced_data.shape}\")\n"
      ]
    },
    {
      "cell_type": "code",
      "execution_count": null,
      "metadata": {
        "colab": {
          "base_uri": "https://localhost:8080/"
        },
        "id": "f6oUs-Ggdu1a",
        "outputId": "12239fb9-9392-4ef1-b14c-1d0f03dca08f"
      },
      "outputs": [],
      "source": [
        "# Random Forest preprocessed datasets\n",
        "rf_train_data = pd.concat([pd.DataFrame(X_rf_train_balanced), pd.Series(y_rf_train_balanced, name='y')], axis=1)\n",
        "rf_test_data = pd.concat([pd.DataFrame(X_rf_test), pd.Series(y_rf_test, name='y')], axis=1)\n",
        "\n",
        "# Save Random Forest datasets to CSV\n",
        "rf_train_data.to_csv(\"/content/rf_train_data.csv\", index=False)\n",
        "rf_test_data.to_csv(\"/content/rf_test_data.csv\", index=False)\n",
        "\n",
        "# Neural Network preprocessed datasets\n",
        "nn_train_data = pd.concat([pd.DataFrame(X_nn_train_balanced), pd.Series(y_nn_train_balanced, name='y')], axis=1)\n",
        "nn_test_data = pd.concat([pd.DataFrame(X_nn_test), pd.Series(y_nn_test, name='y')], axis=1)\n",
        "\n",
        "# Save Neural Network datasets to CSV\n",
        "nn_train_data.to_csv(\"/content/nn_train_data.csv\", index=False)\n",
        "nn_test_data.to_csv(\"/content/nn_test_data.csv\", index=False)\n",
        "\n",
        "print(\"\\nCSV files saved in the 'output' directory:\")\n",
        "print(\"- Random Forest Training Data: /content/rf_train_data.csv\")\n",
        "print(\"- Random Forest Testing Data: /content/rf_test_data.csv\")\n",
        "print(\"- Neural Network Training Data: /content/nn_train_data.csv\")\n",
        "print(\"- Neural Network Testing Data: /content/nn_test_data.csv\")\n"
      ]
    },
    {
      "cell_type": "code",
      "execution_count": null,
      "metadata": {
        "colab": {
          "base_uri": "https://localhost:8080/",
          "height": 178
        },
        "id": "ZaUubgZxsmB8",
        "outputId": "ac4dcb40-91e7-4334-e74f-9a5fb4583063"
      },
      "outputs": [],
      "source": [
        "# rf_train_data = pd.read_csv(\"/content/rf_train_data.csv\")\n",
        "\n",
        "x = rf_train_data.drop(['y'], axis=1)\n",
        "y = rf_train_data['y']\n",
        "y.value_counts()"
      ]
    },
    {
      "cell_type": "code",
      "execution_count": null,
      "metadata": {
        "colab": {
          "base_uri": "https://localhost:8080/"
        },
        "id": "DhOxDShd6CAC",
        "outputId": "62b2b731-4605-4118-9fa2-54b2d64fce37"
      },
      "outputs": [],
      "source": [
        "import pandas as pd\n",
        "import numpy as np\n",
        "from sklearn.ensemble import RandomForestClassifier\n",
        "from sklearn.metrics import classification_report, roc_auc_score, confusion_matrix, accuracy_score\n",
        "from sklearn.metrics import ConfusionMatrixDisplay\n",
        "\n",
        "# Step 1: Load Data from CSV Files\n",
        "rf_train_data = pd.read_csv(\"/content/rf_train_data.csv\")\n",
        "rf_test_data = pd.read_csv(\"/content/rf_test_data.csv\")\n",
        "# Step 2: Separate Features and Target for Random Forest\n",
        "X_rf_train_balanced = rf_train_data.drop('y', axis=1)\n",
        "y_rf_train_balanced = rf_train_data['y']\n",
        "X_rf_test = rf_test_data.drop('y', axis=1)\n",
        "y_rf_test = rf_test_data['y']\n",
        "\n",
        "# Step 3: Train Random Forest Classifier\n",
        "rf_clf = RandomForestClassifier(\n",
        "    n_estimators=200,\n",
        "    max_depth=10,\n",
        "    min_samples_split=5,\n",
        "    min_samples_leaf=2,\n",
        "    class_weight=\"balanced\",\n",
        "    random_state=42\n",
        ")\n",
        "\n",
        "rf_clf.fit(X_rf_train_balanced, y_rf_train_balanced)\n",
        "\n",
        "# Predictions and Probabilities on Training Set\n",
        "y_rf_train_pred = rf_clf.predict(X_rf_train_balanced)\n",
        "y_rf_train_pred_prob = rf_clf.predict_proba(X_rf_train_balanced)[:, 1]\n",
        "\n",
        "# Predictions and Probabilities on Test Set\n",
        "y_rf_pred = rf_clf.predict(X_rf_test)\n",
        "y_rf_pred_prob = rf_clf.predict_proba(X_rf_test)[:, 1]\n",
        "\n",
        "# Step 4: Evaluate Model Performance\n",
        "\n",
        "# Training Metrics\n",
        "print(\"\\nRandom Forest Training Metrics:\")\n",
        "print(\"Classification Report:\")\n",
        "print(classification_report(y_rf_train_balanced, y_rf_train_pred))\n",
        "print(\"Confusion Matrix:\")\n",
        "print(confusion_matrix(y_rf_train_balanced, y_rf_train_pred))\n",
        "print(\"Accuracy:\", accuracy_score(y_rf_train_balanced, y_rf_train_pred))\n",
        "print(\"ROC AUC Score:\", roc_auc_score(y_rf_train_balanced, y_rf_train_pred_prob))\n",
        "\n",
        "# Test Metrics\n",
        "print(\"\\nRandom Forest Test Metrics:\")\n",
        "print(\"Classification Report:\")\n",
        "print(classification_report(y_rf_test, y_rf_pred))\n",
        "print(\"Accuracy:\", accuracy_score(y_rf_test, y_rf_pred))\n",
        "print(\"ROC AUC Score:\", roc_auc_score(y_rf_test, y_rf_pred_prob))\n"
      ]
    },
    {
      "cell_type": "code",
      "execution_count": null,
      "metadata": {
        "colab": {
          "base_uri": "https://localhost:8080/",
          "height": 472
        },
        "id": "sbjju173Y0FS",
        "outputId": "465d5e99-e4fa-4305-bc8d-f1eb3dd179ec"
      },
      "outputs": [],
      "source": [
        "# Random Forest Confusion Matrix\n",
        "ConfusionMatrixDisplay.from_estimator(rf_clf, X_rf_test, y_rf_test)\n",
        "plt.title(\"Random Forest Confusion Matrix\")\n",
        "plt.show()"
      ]
    },
    {
      "cell_type": "code",
      "execution_count": null,
      "metadata": {},
      "outputs": [],
      "source": [
        "from sklearn.metrics import roc_curve\n",
        "import matplotlib.pyplot as plt\n",
        "\n",
        "# Compute ROC curve and AUC for Training Data\n",
        "fpr_train, tpr_train, _ = roc_curve(y_rf_train_balanced, y_rf_train_pred_prob)\n",
        "roc_auc_train = roc_auc_score(y_rf_train_balanced, y_rf_train_pred_prob)\n",
        "\n",
        "# Compute ROC curve and AUC for Testing Data\n",
        "fpr_test, tpr_test, _ = roc_curve(y_rf_test, y_rf_pred_prob)\n",
        "roc_auc_test = roc_auc_score(y_rf_test, y_rf_pred_prob)\n",
        "\n",
        "# Plotting the ROC Curves\n",
        "plt.figure(figsize=(10, 6))\n",
        "plt.plot(fpr_train, tpr_train, label=f'Training ROC Curve (AUC = {roc_auc_train:.2f})', color='blue')\n",
        "plt.plot(fpr_test, tpr_test, label=f'Testing ROC Curve (AUC = {roc_auc_test:.2f})', color='green')\n",
        "plt.plot([0, 1], [0, 1], 'k--', label='Random Guess (AUC = 0.5)')\n",
        "\n",
        "plt.title('ROC Curve for Random Forest')\n",
        "plt.xlabel('False Positive Rate (FPR)')\n",
        "plt.ylabel('True Positive Rate (TPR)')\n",
        "plt.legend(loc='lower right')\n",
        "plt.grid()\n",
        "plt.show()\n"
      ]
    },
    {
      "cell_type": "code",
      "execution_count": null,
      "metadata": {
        "colab": {
          "base_uri": "https://localhost:8080/"
        },
        "id": "-qeUMDZx6QOq",
        "outputId": "a6402d73-c4de-4efb-8808-016766aa2280"
      },
      "outputs": [],
      "source": [
        "from tensorflow.keras.models import Sequential\n",
        "from tensorflow.keras.layers import Dense, Dropout, BatchNormalization, LeakyReLU, Input\n",
        "from tensorflow.keras.optimizers import Adam\n",
        "from tensorflow.keras.callbacks import TensorBoard\n",
        "from sklearn.metrics import classification_report, roc_auc_score, confusion_matrix, accuracy_score, precision_recall_curve, auc\n",
        "import matplotlib.pyplot as plt\n",
        "from sklearn.metrics import ConfusionMatrixDisplay\n",
        "import datetime\n",
        "\n",
        "# Step 1: Load Data from CSV Files\n",
        "nn_train_data = pd.read_csv(\"/content/nn_train_data.csv\")\n",
        "nn_test_data = pd.read_csv(\"/content/nn_test_data.csv\")\n",
        "\n",
        "# Step 2: Separate Features and Target\n",
        "X_nn_train_balanced = nn_train_data.drop('y', axis=1)\n",
        "y_nn_train_balanced = nn_train_data['y']\n",
        "X_nn_test = nn_test_data.drop('y', axis=1)\n",
        "y_nn_test = nn_test_data['y']\n",
        "# Advanced Neural Network Model\n",
        "\n",
        "nn_model = Sequential([\n",
        "    Input(shape=(X_nn_train_balanced.shape[1],)),  # Input layer\n",
        "\n",
        "    Dense(256),  # First hidden layer\n",
        "    BatchNormalization(),\n",
        "    LeakyReLU(negative_slope=0.1),\n",
        "    Dropout(0.3),\n",
        "\n",
        "    Dense(128),\n",
        "    BatchNormalization(),\n",
        "    LeakyReLU(negative_slope=0.1),\n",
        "    Dropout(0.3),\n",
        "\n",
        "    Dense(64),\n",
        "    BatchNormalization(),\n",
        "    LeakyReLU(negative_slope=0.1),\n",
        "    Dropout(0.3),\n",
        "\n",
        "    Dense(1, activation='sigmoid')  # Output layer for binary classification\n",
        "])\n",
        "\n",
        "# Compile the model\n",
        "nn_model.compile(optimizer=Adam(learning_rate=0.001), loss='binary_crossentropy', metrics=['accuracy'])\n",
        "\n",
        "# TensorBoard Logging\n",
        "log_dir = \"logs/fit/\" + datetime.datetime.now().strftime(\"%Y%m%d-%H%M%S\")\n",
        "tensorboard_callback = TensorBoard(log_dir=log_dir, histogram_freq=1)\n",
        "\n",
        "# Train the model\n",
        "history = nn_model.fit(\n",
        "    X_nn_train_balanced, y_nn_train_balanced,\n",
        "    epochs=20,\n",
        "    batch_size=32,\n",
        "    validation_data=(X_nn_test, y_nn_test),\n",
        "    verbose=1\n",
        ")\n",
        "\n",
        "# Predictions\n",
        "y_nn_pred_prob = nn_model.predict(X_nn_test).flatten()\n",
        "y_nn_pred = (y_nn_pred_prob > 0.5).astype(int)\n",
        "\n",
        "# Predictions on Training Data\n",
        "y_nn_train_pred_prob = nn_model.predict(X_nn_train_balanced).flatten()\n",
        "y_nn_train_pred = (y_nn_train_pred_prob > 0.5).astype(int)\n",
        "\n",
        "# Training Data Metrics\n",
        "print(\"\\nNeural Network Classification Report (Training Data):\")\n",
        "print(classification_report(y_nn_train_balanced, y_nn_train_pred))\n",
        "print(\"Accuracy (Training Data):\", accuracy_score(y_nn_train_balanced, y_nn_train_pred))\n",
        "print(\"ROC AUC Score (Training Data):\", roc_auc_score(y_nn_train_balanced, y_nn_train_pred_prob))\n",
        "\n",
        "# Evaluation Metrics\n",
        "print(\"\\nNeural Network Classification Report:\")\n",
        "print(classification_report(y_nn_test, y_nn_pred))\n",
        "print(\"Accuracy:\", accuracy_score(y_nn_test, y_nn_pred))\n",
        "print(\"ROC AUC Score:\", roc_auc_score(y_nn_test, y_nn_pred_prob))\n"
      ]
    },
    {
      "cell_type": "code",
      "execution_count": null,
      "metadata": {
        "colab": {
          "base_uri": "https://localhost:8080/",
          "height": 452
        },
        "id": "3xndSrTC95LQ",
        "outputId": "df17e66c-c480-48d0-c655-ef664ea49938"
      },
      "outputs": [],
      "source": [
        "# Neural Network\n",
        "sns.heatmap(confusion_matrix(y_nn_test, y_nn_pred), annot=True, fmt=\"d\", cmap=\"Blues\")\n",
        "plt.title(\"Neural Network Confusion Matrix\")\n",
        "plt.show()"
      ]
    },
    {
      "cell_type": "code",
      "execution_count": null,
      "metadata": {},
      "outputs": [],
      "source": [
        "from sklearn.metrics import roc_curve\n",
        "\n",
        "# ROC Curve for Training Data\n",
        "fpr_train, tpr_train, _ = roc_curve(y_nn_train_balanced, y_nn_train_pred_prob)\n",
        "roc_auc_train = roc_auc_score(y_nn_train_balanced, y_nn_train_pred_prob)\n",
        "\n",
        "# ROC Curve for Testing Data\n",
        "fpr_test, tpr_test, _ = roc_curve(y_nn_test, y_nn_pred_prob)\n",
        "roc_auc_test = roc_auc_score(y_nn_test, y_nn_pred_prob)\n",
        "\n",
        "# Plotting the ROC Curves\n",
        "plt.figure(figsize=(10, 6))\n",
        "plt.plot(fpr_train, tpr_train, label=f'Training ROC Curve (AUC = {roc_auc_train:.2f})', color='blue')\n",
        "plt.plot(fpr_test, tpr_test, label=f'Testing ROC Curve (AUC = {roc_auc_test:.2f})', color='green')\n",
        "plt.plot([0, 1], [0, 1], 'k--', label='Random Guess (AUC = 0.5)')\n",
        "\n",
        "plt.title('ROC Curve Of Neural Network')\n",
        "plt.xlabel('False Positive Rate (FPR)')\n",
        "plt.ylabel('True Positive Rate (TPR)')\n",
        "plt.legend(loc='lower right')\n",
        "plt.grid()\n",
        "plt.show()\n"
      ]
    },
    {
      "cell_type": "code",
      "execution_count": null,
      "metadata": {
        "colab": {
          "base_uri": "https://localhost:8080/",
          "height": 366
        },
        "id": "uADtmJpyY5If",
        "outputId": "1b82cfda-16b7-4ceb-be29-302347e7f7c8"
      },
      "outputs": [],
      "source": [
        "# Plot Learning Curves\n",
        "plt.figure(figsize=(12, 6))\n",
        "plt.plot(history.history['loss'], label='Training Loss')\n",
        "plt.plot(history.history['val_loss'], label='Validation Loss')\n",
        "plt.xlabel('Epochs')\n",
        "plt.ylabel('Loss')\n",
        "plt.title('Training and Validation Loss')\n",
        "plt.legend()\n",
        "plt.grid()\n",
        "plt.show()"
      ]
    },
    {
      "cell_type": "code",
      "execution_count": null,
      "metadata": {
        "colab": {
          "base_uri": "https://localhost:8080/",
          "height": 402
        },
        "id": "ohVTrp7Je28Y",
        "outputId": "5d84018b-6ae3-42e3-adb2-6fa9ac467b38"
      },
      "outputs": [],
      "source": [
        "import matplotlib.pyplot as plt\n",
        "import numpy as np\n",
        "from sklearn.metrics import accuracy_score, classification_report, roc_auc_score\n",
        "\n",
        "# Evaluation metrics (replace with your actual data)\n",
        "rf_eval = {\n",
        "    'acc': accuracy_score(y_rf_test, y_rf_pred),\n",
        "    'prec': classification_report(y_rf_test, y_rf_pred, output_dict=True)['1']['precision'],\n",
        "    'rec': classification_report(y_rf_test, y_rf_pred, output_dict=True)['1']['recall'],\n",
        "    'f1': classification_report(y_rf_test, y_rf_pred, output_dict=True)['1']['f1-score']\n",
        "}\n",
        "\n",
        "nn_eval = {\n",
        "    'acc': accuracy_score(y_nn_test, y_nn_pred),\n",
        "    'prec': classification_report(y_nn_test, y_nn_pred, output_dict=True)['1']['precision'],\n",
        "    'rec': classification_report(y_nn_test, y_nn_pred, output_dict=True)['1']['recall'],\n",
        "    'f1': classification_report(y_nn_test, y_nn_pred, output_dict=True)['1']['f1-score']\n",
        "}\n",
        "\n",
        "# Metrics and scores\n",
        "metrics = ['Accuracy', 'Precision', 'Recall', 'F1']\n",
        "rf_scores = [rf_eval['acc'], rf_eval['prec'], rf_eval['rec'], rf_eval['f1']]\n",
        "nn_scores = [nn_eval['acc'], nn_eval['prec'], nn_eval['rec'], nn_eval['f1']]\n",
        "\n",
        "# Bar chart for evaluation metrics\n",
        "barWidth = 0.3\n",
        "r1 = np.arange(len(metrics))\n",
        "r2 = [x + barWidth for x in r1]\n",
        "\n",
        "plt.figure(figsize=(10, 6))\n",
        "plt.bar(r1, rf_scores, width=barWidth, edgecolor='white', label='Random Forest')\n",
        "plt.bar(r2, nn_scores, width=barWidth, edgecolor='white', label='Neural Network')\n",
        "\n",
        "# Configure axes\n",
        "plt.xlabel('Metrics', fontweight='bold')\n",
        "plt.xticks([r + barWidth / 2 for r in range(len(metrics))], metrics)\n",
        "plt.ylabel('Score', fontweight='bold')\n",
        "plt.ylim(0, 1)\n",
        "plt.title('Model Comparison: Evaluation Metrics', fontsize=14, fontweight='bold')\n",
        "plt.legend()\n",
        "\n",
        "plt.tight_layout()\n",
        "plt.show()\n"
      ]
    }
  ],
  "metadata": {
    "colab": {
      "provenance": []
    },
    "kernelspec": {
      "display_name": "Python 3",
      "name": "python3"
    },
    "language_info": {
      "name": "python"
    }
  },
  "nbformat": 4,
  "nbformat_minor": 0
}
